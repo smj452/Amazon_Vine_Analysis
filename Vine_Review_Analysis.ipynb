{
  "nbformat": 4,
  "nbformat_minor": 0,
  "metadata": {
    "colab": {
      "name": "Vine_Review_Analysis.ipynb",
      "provenance": [],
      "collapsed_sections": []
    },
    "kernelspec": {
      "name": "python3",
      "display_name": "Python 3"
    }
  },
  "cells": [
    {
      "cell_type": "code",
      "metadata": {
        "colab": {
          "base_uri": "https://localhost:8080/"
        },
        "id": "R64w5qoDPsZI",
        "outputId": "f17a7848-6024-4cd0-d356-64c928c1cacc"
      },
      "source": [
        "import os\r\n",
        "\r\n",
        "# Find the latest version of spark 2.0  from http://www-us.apache.org/dist/spark/ and enter as the spark version\r\n",
        "# For example:\r\n",
        "# spark_version = 'spark-2.4.6'\r\n",
        "spark_version = 'spark-2.4.7'\r\n",
        "os.environ['SPARK_VERSION']=spark_version\r\n",
        "\r\n",
        "# Install Spark and Java\r\n",
        "!apt-get update\r\n",
        "!apt-get install openjdk-8-jdk-headless -qq > /dev/null\r\n",
        "!wget -q http://www-us.apache.org/dist/spark/$SPARK_VERSION/$SPARK_VERSION-bin-hadoop2.7.tgz\r\n",
        "!tar xf $SPARK_VERSION-bin-hadoop2.7.tgz\r\n",
        "!pip install -q findspark\r\n",
        "\r\n",
        "# Set Environment Variables\r\n",
        "os.environ[\"JAVA_HOME\"] = \"/usr/lib/jvm/java-8-openjdk-amd64\"\r\n",
        "os.environ[\"SPARK_HOME\"] = f\"/content/{spark_version}-bin-hadoop2.7\"\r\n",
        "\r\n",
        "# Start a SparkSession\r\n",
        "import findspark\r\n",
        "findspark.init()"
      ],
      "execution_count": null,
      "outputs": [
        {
          "output_type": "stream",
          "text": [
            "\r0% [Working]\r            \rGet:1 http://security.ubuntu.com/ubuntu bionic-security InRelease [88.7 kB]\n",
            "\r0% [Connecting to archive.ubuntu.com (91.189.88.152)] [1 InRelease 0 B/88.7 kB \r                                                                               \rIgn:2 https://developer.download.nvidia.com/compute/cuda/repos/ubuntu1804/x86_64  InRelease\n",
            "\r0% [Waiting for headers] [1 InRelease 75.0 kB/88.7 kB 85%] [Waiting for headers\r0% [Waiting for headers] [Waiting for headers] [Waiting for headers] [Waiting f\r0% [1 InRelease gpgv 88.7 kB] [Waiting for headers] [Waiting for headers] [Wait\r                                                                               \rGet:3 https://cloud.r-project.org/bin/linux/ubuntu bionic-cran40/ InRelease [3,626 B]\n",
            "\r0% [1 InRelease gpgv 88.7 kB] [Waiting for headers] [3 InRelease 3,626 B/3,626 \r0% [1 InRelease gpgv 88.7 kB] [Waiting for headers] [Waiting for headers] [Wait\r                                                                               \rGet:4 http://ppa.launchpad.net/c2d4u.team/c2d4u4.0+/ubuntu bionic InRelease [15.9 kB]\n",
            "\r0% [1 InRelease gpgv 88.7 kB] [Waiting for headers] [4 InRelease 14.2 kB/15.9 k\r                                                                               \rIgn:5 https://developer.download.nvidia.com/compute/machine-learning/repos/ubuntu1804/x86_64  InRelease\n",
            "\r0% [1 InRelease gpgv 88.7 kB] [Waiting for headers] [4 InRelease 14.2 kB/15.9 k\r                                                                               \rHit:6 https://developer.download.nvidia.com/compute/cuda/repos/ubuntu1804/x86_64  Release\n",
            "\r0% [1 InRelease gpgv 88.7 kB] [Waiting for headers] [4 InRelease 14.2 kB/15.9 k\r                                                                               \rHit:7 http://archive.ubuntu.com/ubuntu bionic InRelease\n",
            "Hit:8 https://developer.download.nvidia.com/compute/machine-learning/repos/ubuntu1804/x86_64  Release\n",
            "Get:9 http://archive.ubuntu.com/ubuntu bionic-updates InRelease [88.7 kB]\n",
            "Hit:10 http://ppa.launchpad.net/cran/libgit2/ubuntu bionic InRelease\n",
            "Get:11 http://archive.ubuntu.com/ubuntu bionic-backports InRelease [74.6 kB]\n",
            "Hit:12 http://ppa.launchpad.net/graphics-drivers/ppa/ubuntu bionic InRelease\n",
            "Get:15 http://ppa.launchpad.net/c2d4u.team/c2d4u4.0+/ubuntu bionic/main Sources [1,715 kB]\n",
            "Get:16 http://archive.ubuntu.com/ubuntu bionic-updates/universe amd64 Packages [2,149 kB]\n",
            "Get:17 http://ppa.launchpad.net/c2d4u.team/c2d4u4.0+/ubuntu bionic/main amd64 Packages [878 kB]\n",
            "Fetched 5,014 kB in 3s (1,697 kB/s)\n",
            "Reading package lists... Done\n"
          ],
          "name": "stdout"
        }
      ]
    },
    {
      "cell_type": "code",
      "metadata": {
        "colab": {
          "base_uri": "https://localhost:8080/"
        },
        "id": "aNjt2ilwWQhv",
        "outputId": "d7102640-e4f6-421f-9aa4-9caeec1c1eae"
      },
      "source": [
        "# Download the Postgres driver that will allow Spark to interact with Postgres.\r\n",
        "!wget https://jdbc.postgresql.org/download/postgresql-42.2.16.jar"
      ],
      "execution_count": null,
      "outputs": [
        {
          "output_type": "stream",
          "text": [
            "--2021-01-23 22:24:18--  https://jdbc.postgresql.org/download/postgresql-42.2.16.jar\n",
            "Resolving jdbc.postgresql.org (jdbc.postgresql.org)... 72.32.157.228, 2001:4800:3e1:1::228\n",
            "Connecting to jdbc.postgresql.org (jdbc.postgresql.org)|72.32.157.228|:443... connected.\n",
            "HTTP request sent, awaiting response... 200 OK\n",
            "Length: 1002883 (979K) [application/java-archive]\n",
            "Saving to: ‘postgresql-42.2.16.jar’\n",
            "\n",
            "postgresql-42.2.16. 100%[===================>] 979.38K  --.-KB/s    in 0.1s    \n",
            "\n",
            "2021-01-23 22:24:18 (6.59 MB/s) - ‘postgresql-42.2.16.jar’ saved [1002883/1002883]\n",
            "\n"
          ],
          "name": "stdout"
        }
      ]
    },
    {
      "cell_type": "code",
      "metadata": {
        "id": "wougY4cgWXav"
      },
      "source": [
        "# Start Spark session\r\n",
        "from pyspark.sql import SparkSession\r\n",
        "spark = SparkSession.builder.appName(\"Vine_Review\").getOrCreate()"
      ],
      "execution_count": null,
      "outputs": []
    },
    {
      "cell_type": "code",
      "metadata": {
        "colab": {
          "base_uri": "https://localhost:8080/"
        },
        "id": "WowD4Jn3WeSq",
        "outputId": "6770118a-445b-4b71-beb4-f4065c1f480d"
      },
      "source": [
        "from pyspark import SparkFiles\r\n",
        "# Read in the Review dataset as a DataFrame\r\n",
        "url = \"https://s3.amazonaws.com/amazon-reviews-pds/tsv/amazon_reviews_us_Home_Entertainment_v1_00.tsv.gz\"\r\n",
        "spark.sparkContext.addFile(url)\r\n",
        "df = spark.read.option(\"encoding\", \"UTF-8\").csv(SparkFiles.get(\"\"), sep=\"\\t\", header=True, inferSchema=True)\r\n",
        "df.show()"
      ],
      "execution_count": null,
      "outputs": [
        {
          "output_type": "stream",
          "text": [
            "+-----------+-----------+--------------+----------+--------------+--------------------+------------------+-----------+-------------+-----------+----+-----------------+--------------------+--------------------+-------------------+\n",
            "|marketplace|customer_id|     review_id|product_id|product_parent|       product_title|  product_category|star_rating|helpful_votes|total_votes|vine|verified_purchase|     review_headline|         review_body|        review_date|\n",
            "+-----------+-----------+--------------+----------+--------------+--------------------+------------------+-----------+-------------+-----------+----+-----------------+--------------------+--------------------+-------------------+\n",
            "|         US|     179886| RY01SAV7HZ8QO|B00NTI0CQ2|     667358431|Aketek 1080P LED ...|Home Entertainment|          4|            0|          0|   N|                Y|good enough for m...|not the best pict...|2015-08-31 00:00:00|\n",
            "|         US|   37293769|R1XX8SDGJ4MZ4L|B00BUCLVZU|     621695622|TiVo Mini with IR...|Home Entertainment|          5|            0|          0|   N|                N|Tell the Cable Co...|Not only do my Ti...|2015-08-31 00:00:00|\n",
            "|         US|    8332121|R149Q3B5L33NN5|B00RBX9D5W|     143071132|Apple TV MD199LL/...|Home Entertainment|          5|            0|          0|   N|                Y|    Works perfectly!|Works perfectly! ...|2015-08-31 00:00:00|\n",
            "|         US|   47054962|R2ZVD69Z6KPJ4O|B00UJ3IULO|     567816707|New Roku 3 6.5 Fo...|Home Entertainment|          1|            0|          2|   N|                Y|It doesn't work. ...|It doesn't work. ...|2015-08-31 00:00:00|\n",
            "|         US|   23413911|R1DIKG2G33ZLNP|B0037UCTXG|     909557698|Generic DVI-I Dua...|Home Entertainment|          4|            0|          0|   N|                Y|         As pictured|I received the it...|2015-08-31 00:00:00|\n",
            "|         US|    4417771|R3L6FGKAW0EYFI|B004N866SU|     414565179|Samsung 3D LED HD...|Home Entertainment|          1|            1|          1|   N|                N|Only lasts 3-4 ye...|I bought this TV ...|2015-08-31 00:00:00|\n",
            "|         US|   47900707| RAO0QZH5VC6VI|B00JE6AOJS|     798450889|Jiake Wireless Bl...|Home Entertainment|          1|            0|          0|   N|                Y|            One Star|    Waste of $$$$$$$|2015-08-31 00:00:00|\n",
            "|         US|   34112894|R25IK0UAHWNB22|B00COL0B7A|     777554234|3pcs/lot 3in1 3ft...|Home Entertainment|          3|            0|          0|   N|                Y|         Three Stars|Nice but all thre...|2015-08-31 00:00:00|\n",
            "|         US|   20691979|R2A9IHKZMTMAL1|B00QHLSKOE|     885228855|Matricom G-Box Q²...|Home Entertainment|          5|            1|          2|   N|                Y|Yes...exactly wha...|Oh, yeah...doesn'...|2015-08-31 00:00:00|\n",
            "|         US|   25983343| R5XVKTHL6SITI|B00UNL2MUW|     164482798|VIZIO S2920W-C0B ...|Home Entertainment|          5|            0|          0|   N|                Y|Fantastic sound. ...|Fantastic sound. ...|2015-08-31 00:00:00|\n",
            "|         US|   35816068|R2QZZOSTDDY1IE|B00RIC9JB4|     184834831|Hitachi 49\" Class...|Home Entertainment|          3|            3|          6|   N|                Y|               risky|Great tv but Tv d...|2015-08-31 00:00:00|\n",
            "|         US|   10628020|R38CUDCFPSNYTD|B00HPMCO6O|     444378461|Sony BDPS5200 3D ...|Home Entertainment|          5|            0|          0|   N|                Y|          Five Stars|EXCELLENT SERVICE...|2015-08-31 00:00:00|\n",
            "|         US|    9059625| RM6ZR6NH052YH|B004QGXWS6|     770226547|Sylvania 7-Inch T...|Home Entertainment|          3|            1|          2|   N|                Y|They worked great...|They worked great...|2015-08-31 00:00:00|\n",
            "|         US|    2681147| RUQK5N4WH8UN8|B00FO12XY6|     448806082|Roku HD Streaming...|Home Entertainment|          5|            0|          0|   N|                Y|          Five Stars|Smooth and worked...|2015-08-31 00:00:00|\n",
            "|         US|   33449922|R21LWSBQWWJYZ3|B00BD7UVO4|     374427271|LG Electronics BP...|Home Entertainment|          5|            0|          0|   N|                Y|          Five Stars|     Works very well|2015-08-31 00:00:00|\n",
            "|         US|   43069144| R8W5S53RQ2DF7|B00TRQPEYK|     614207013|LG Electronics LF...|Home Entertainment|          5|            0|          0|   N|                Y|               LG TV|The TV arrived qu...|2015-08-31 00:00:00|\n",
            "|         US|   46780686|R3ENME3JQBWXZS|B005STXQG8|     689442799|SquareTrade TV Pr...|Home Entertainment|          5|            0|          1|   N|                Y|          Five Stars|well worth the mo...|2015-08-31 00:00:00|\n",
            "|         US|   49037595|R3URL5K7DHHYK7|B00BEL11RA|     910670994|Cambridge - Azur ...|Home Entertainment|          5|            1|          1|   N|                Y|            Love it.|Great Blu-ray pla...|2015-08-31 00:00:00|\n",
            "|         US|   27868511|R22YISZKS35YZX|B00QHLSKOE|     885228855|Matricom G-Box Q²...|Home Entertainment|          5|            2|          3|   N|                Y|If your on the fe...|Great media cente...|2015-08-31 00:00:00|\n",
            "|         US|    3004043|R3IIOLWHWC297U|B00MWCJ8VQ|     946374680|Roku 3500XB Strea...|Home Entertainment|          5|            0|          0|   N|                Y|          Five Stars|       great product|2015-08-31 00:00:00|\n",
            "+-----------+-----------+--------------+----------+--------------+--------------------+------------------+-----------+-------------+-----------+----+-----------------+--------------------+--------------------+-------------------+\n",
            "only showing top 20 rows\n",
            "\n"
          ],
          "name": "stdout"
        }
      ]
    },
    {
      "cell_type": "code",
      "metadata": {
        "colab": {
          "base_uri": "https://localhost:8080/"
        },
        "id": "o58l_JjKWoDq",
        "outputId": "28a5e5d2-2b25-444f-fd9c-864aa0d70f82"
      },
      "source": [
        "# Create the vine_table. DataFrame\r\n",
        "vine_df = df.select([\"review_id\",\"star_rating\", \"helpful_votes\", \"total_votes\",\"vine\", \"verified_purchase\"])\r\n",
        "vine_df.show()"
      ],
      "execution_count": null,
      "outputs": [
        {
          "output_type": "stream",
          "text": [
            "+--------------+-----------+-------------+-----------+----+-----------------+\n",
            "|     review_id|star_rating|helpful_votes|total_votes|vine|verified_purchase|\n",
            "+--------------+-----------+-------------+-----------+----+-----------------+\n",
            "| RY01SAV7HZ8QO|          4|            0|          0|   N|                Y|\n",
            "|R1XX8SDGJ4MZ4L|          5|            0|          0|   N|                N|\n",
            "|R149Q3B5L33NN5|          5|            0|          0|   N|                Y|\n",
            "|R2ZVD69Z6KPJ4O|          1|            0|          2|   N|                Y|\n",
            "|R1DIKG2G33ZLNP|          4|            0|          0|   N|                Y|\n",
            "|R3L6FGKAW0EYFI|          1|            1|          1|   N|                N|\n",
            "| RAO0QZH5VC6VI|          1|            0|          0|   N|                Y|\n",
            "|R25IK0UAHWNB22|          3|            0|          0|   N|                Y|\n",
            "|R2A9IHKZMTMAL1|          5|            1|          2|   N|                Y|\n",
            "| R5XVKTHL6SITI|          5|            0|          0|   N|                Y|\n",
            "|R2QZZOSTDDY1IE|          3|            3|          6|   N|                Y|\n",
            "|R38CUDCFPSNYTD|          5|            0|          0|   N|                Y|\n",
            "| RM6ZR6NH052YH|          3|            1|          2|   N|                Y|\n",
            "| RUQK5N4WH8UN8|          5|            0|          0|   N|                Y|\n",
            "|R21LWSBQWWJYZ3|          5|            0|          0|   N|                Y|\n",
            "| R8W5S53RQ2DF7|          5|            0|          0|   N|                Y|\n",
            "|R3ENME3JQBWXZS|          5|            0|          1|   N|                Y|\n",
            "|R3URL5K7DHHYK7|          5|            1|          1|   N|                Y|\n",
            "|R22YISZKS35YZX|          5|            2|          3|   N|                Y|\n",
            "|R3IIOLWHWC297U|          5|            0|          0|   N|                Y|\n",
            "+--------------+-----------+-------------+-----------+----+-----------------+\n",
            "only showing top 20 rows\n",
            "\n"
          ],
          "name": "stdout"
        }
      ]
    },
    {
      "cell_type": "code",
      "metadata": {
        "colab": {
          "base_uri": "https://localhost:8080/"
        },
        "id": "9nidfqzkWpMP",
        "outputId": "bba30baf-5410-4e3e-9968-5d5075dbbe33"
      },
      "source": [
        "# Load in a sql function use columns\r\n",
        "from pyspark.sql.functions import col\r\n",
        "\r\n",
        "# Filter from only columns with total_votes equsl to or greater than 20\r\n",
        "cleaned_vine_df = vine_df.filter(col(\"total_votes\") >= 20)\r\n",
        "cleaned_vine_df.show()"
      ],
      "execution_count": null,
      "outputs": [
        {
          "output_type": "stream",
          "text": [
            "+--------------+-----------+-------------+-----------+----+-----------------+\n",
            "|     review_id|star_rating|helpful_votes|total_votes|vine|verified_purchase|\n",
            "+--------------+-----------+-------------+-----------+----+-----------------+\n",
            "|R1VCSDR38XTALJ|          1|           33|         40|   N|                N|\n",
            "|R1KMC6B2JRCZ3D|          3|           42|         47|   N|                N|\n",
            "|R1LV778IDGRJQ6|          1|            4|         23|   N|                Y|\n",
            "| RBZE8H6SHVYWW|          3|           77|        110|   N|                N|\n",
            "|R2LBEAGVJA7HK1|          3|            5|         48|   N|                N|\n",
            "|R3UN4H3BW9YTQA|          5|          358|        388|   N|                Y|\n",
            "| R2YKRQ8R3B2Q3|          5|           30|         35|   N|                N|\n",
            "|R1K00VBT0SMD4Z|          1|           50|         60|   N|                Y|\n",
            "|R3QLX5NODD1OJ4|          1|            9|         25|   N|                Y|\n",
            "|R2SOOHE0XUQON1|          1|            2|         24|   N|                N|\n",
            "|R2I9AO0VEBYJES|          4|           47|         57|   N|                Y|\n",
            "|R27EECVZ426CQ5|          1|            3|         25|   N|                N|\n",
            "|R3Q7YJX1I5PDMU|          3|           22|         22|   N|                Y|\n",
            "| RJQQO26UPW1PI|          5|           76|         96|   N|                Y|\n",
            "|R2QJI05ZY7DNSR|          4|           59|         73|   N|                N|\n",
            "|R2MBLFKV5JFTKE|          1|           80|         89|   N|                N|\n",
            "|R1YYR1SP2TS30L|          1|           55|         70|   N|                Y|\n",
            "|R2DYKW0X2B93QG|          2|           50|         63|   N|                Y|\n",
            "|R14QWM0LJO6313|          5|           24|         28|   N|                Y|\n",
            "|R19H4AKN005KL8|          5|           19|         28|   N|                Y|\n",
            "+--------------+-----------+-------------+-----------+----+-----------------+\n",
            "only showing top 20 rows\n",
            "\n"
          ],
          "name": "stdout"
        }
      ]
    },
    {
      "cell_type": "code",
      "metadata": {
        "colab": {
          "base_uri": "https://localhost:8080/"
        },
        "id": "AYDqIAZiWz5E",
        "outputId": "8cd6a6d7-6093-4f01-8dc3-2bacc7289815"
      },
      "source": [
        "# Filter from only columns with all the rows where the number of helpful_votes divided by total_votes is equal to or greater than 50%.\r\n",
        "vine_50_or_greater_df = cleaned_vine_df.filter(col(\"helpful_votes\") / col(\"total_votes\") >= 0.5)\r\n",
        "vine_50_or_greater_df.show()"
      ],
      "execution_count": null,
      "outputs": [
        {
          "output_type": "stream",
          "text": [
            "+--------------+-----------+-------------+-----------+----+-----------------+\n",
            "|     review_id|star_rating|helpful_votes|total_votes|vine|verified_purchase|\n",
            "+--------------+-----------+-------------+-----------+----+-----------------+\n",
            "|R1VCSDR38XTALJ|          1|           33|         40|   N|                N|\n",
            "|R1KMC6B2JRCZ3D|          3|           42|         47|   N|                N|\n",
            "| RBZE8H6SHVYWW|          3|           77|        110|   N|                N|\n",
            "|R3UN4H3BW9YTQA|          5|          358|        388|   N|                Y|\n",
            "| R2YKRQ8R3B2Q3|          5|           30|         35|   N|                N|\n",
            "|R1K00VBT0SMD4Z|          1|           50|         60|   N|                Y|\n",
            "|R2I9AO0VEBYJES|          4|           47|         57|   N|                Y|\n",
            "|R3Q7YJX1I5PDMU|          3|           22|         22|   N|                Y|\n",
            "| RJQQO26UPW1PI|          5|           76|         96|   N|                Y|\n",
            "|R2QJI05ZY7DNSR|          4|           59|         73|   N|                N|\n",
            "|R2MBLFKV5JFTKE|          1|           80|         89|   N|                N|\n",
            "|R1YYR1SP2TS30L|          1|           55|         70|   N|                Y|\n",
            "|R2DYKW0X2B93QG|          2|           50|         63|   N|                Y|\n",
            "|R14QWM0LJO6313|          5|           24|         28|   N|                Y|\n",
            "|R19H4AKN005KL8|          5|           19|         28|   N|                Y|\n",
            "|R27MJ6EZADWWPX|          5|           34|         37|   N|                Y|\n",
            "| RXZ3Q8ZGMVQ40|          1|           19|         30|   N|                Y|\n",
            "|R2GFDC3KTYASPJ|          5|           94|        118|   N|                Y|\n",
            "|R288AJX5OK9K4Q|          1|           46|         63|   N|                Y|\n",
            "|R25PC9R5T29WSK|          5|           21|         23|   N|                Y|\n",
            "+--------------+-----------+-------------+-----------+----+-----------------+\n",
            "only showing top 20 rows\n",
            "\n"
          ],
          "name": "stdout"
        }
      ]
    },
    {
      "cell_type": "code",
      "metadata": {
        "colab": {
          "base_uri": "https://localhost:8080/"
        },
        "id": "WJ2kuIznX_gf",
        "outputId": "8bae41c2-c3fa-40a7-be8d-6ab01c26d117"
      },
      "source": [
        "vine_paid_df = vine_50_or_greater_df.filter(col(\"vine\") == 'Y')\r\n",
        "vine_paid_df.show()"
      ],
      "execution_count": null,
      "outputs": [
        {
          "output_type": "stream",
          "text": [
            "+--------------+-----------+-------------+-----------+----+-----------------+\n",
            "|     review_id|star_rating|helpful_votes|total_votes|vine|verified_purchase|\n",
            "+--------------+-----------+-------------+-----------+----+-----------------+\n",
            "|R3LLICBKRHLRJC|          4|           17|         22|   Y|                N|\n",
            "| RUD135S06DEVE|          5|           41|         51|   Y|                N|\n",
            "|R2WG8UL4SGDPDH|          4|           23|         25|   Y|                N|\n",
            "|R158AOKOA28WS2|          4|           18|         28|   Y|                N|\n",
            "| RGWV3QLJQXU9X|          5|          332|        380|   Y|                N|\n",
            "| RD0E1RZSSYGGN|          5|          261|        292|   Y|                N|\n",
            "|R3LGCTQH5ZMGO0|          5|           61|         68|   Y|                N|\n",
            "|R2H24YTRLARCZJ|          4|          277|        297|   Y|                N|\n",
            "| RYYTC9JTG7WPW|          5|          107|        134|   Y|                N|\n",
            "| RTB8H4YQYTLY3|          4|           58|         62|   Y|                N|\n",
            "| RMQYIMBVK7T8R|          5|           29|         36|   Y|                N|\n",
            "| R9KIBRBGB1M6W|          5|           26|         33|   Y|                N|\n",
            "|R122J9QGFCZTR0|          5|          324|        342|   Y|                N|\n",
            "|R2QIEBCHDXA2CW|          4|           55|         64|   Y|                N|\n",
            "|R1KG6E0W0Q5YCQ|          5|           27|         32|   Y|                N|\n",
            "|R3B6CGFNVWRWJ0|          5|           15|         23|   Y|                N|\n",
            "| RR66J5S5D8ZUP|          5|           25|         33|   Y|                N|\n",
            "|R3UC7TCOGT73CJ|          3|           33|         41|   Y|                N|\n",
            "| R32UKGZUYVA2S|          2|           64|         77|   Y|                N|\n",
            "|R1G2OXP36OPF40|          5|           20|         22|   Y|                N|\n",
            "+--------------+-----------+-------------+-----------+----+-----------------+\n",
            "only showing top 20 rows\n",
            "\n"
          ],
          "name": "stdout"
        }
      ]
    },
    {
      "cell_type": "code",
      "metadata": {
        "colab": {
          "base_uri": "https://localhost:8080/"
        },
        "id": "2ah-HgGRYFBD",
        "outputId": "6c03ada8-f5d8-443a-fc3c-00233dcc22f6"
      },
      "source": [
        "vine_unpaid_df = vine_50_or_greater_df.filter(col(\"vine\") == 'N')\r\n",
        "vine_unpaid_df.show()"
      ],
      "execution_count": null,
      "outputs": [
        {
          "output_type": "stream",
          "text": [
            "+--------------+-----------+-------------+-----------+----+-----------------+\n",
            "|     review_id|star_rating|helpful_votes|total_votes|vine|verified_purchase|\n",
            "+--------------+-----------+-------------+-----------+----+-----------------+\n",
            "|R1VCSDR38XTALJ|          1|           33|         40|   N|                N|\n",
            "|R1KMC6B2JRCZ3D|          3|           42|         47|   N|                N|\n",
            "| RBZE8H6SHVYWW|          3|           77|        110|   N|                N|\n",
            "|R3UN4H3BW9YTQA|          5|          358|        388|   N|                Y|\n",
            "| R2YKRQ8R3B2Q3|          5|           30|         35|   N|                N|\n",
            "|R1K00VBT0SMD4Z|          1|           50|         60|   N|                Y|\n",
            "|R2I9AO0VEBYJES|          4|           47|         57|   N|                Y|\n",
            "|R3Q7YJX1I5PDMU|          3|           22|         22|   N|                Y|\n",
            "| RJQQO26UPW1PI|          5|           76|         96|   N|                Y|\n",
            "|R2QJI05ZY7DNSR|          4|           59|         73|   N|                N|\n",
            "|R2MBLFKV5JFTKE|          1|           80|         89|   N|                N|\n",
            "|R1YYR1SP2TS30L|          1|           55|         70|   N|                Y|\n",
            "|R2DYKW0X2B93QG|          2|           50|         63|   N|                Y|\n",
            "|R14QWM0LJO6313|          5|           24|         28|   N|                Y|\n",
            "|R19H4AKN005KL8|          5|           19|         28|   N|                Y|\n",
            "|R27MJ6EZADWWPX|          5|           34|         37|   N|                Y|\n",
            "| RXZ3Q8ZGMVQ40|          1|           19|         30|   N|                Y|\n",
            "|R2GFDC3KTYASPJ|          5|           94|        118|   N|                Y|\n",
            "|R288AJX5OK9K4Q|          1|           46|         63|   N|                Y|\n",
            "|R25PC9R5T29WSK|          5|           21|         23|   N|                Y|\n",
            "+--------------+-----------+-------------+-----------+----+-----------------+\n",
            "only showing top 20 rows\n",
            "\n"
          ],
          "name": "stdout"
        }
      ]
    },
    {
      "cell_type": "code",
      "metadata": {
        "id": "bCheYfFAYIvO"
      },
      "source": [
        "# Paid Reviews\r\n",
        "# Determine the total number of reviews\r\n",
        "total_paid = vine_paid_df.count()\r\n",
        "# the number of 5-star reviews\r\n",
        "total_5_star_paid = vine_paid_df[vine_paid_df[\"star_rating\"] == 5].count()\r\n",
        "# the percentage of 5-star reviews\r\n",
        "percentage_paid_5_star = round(total_5_star_paid / total_paid * 100)\r\n",
        "\r\n",
        "# Unpaid Reviews\r\n",
        "# Determine the total number of reviews\r\n",
        "total_unpaid = vine_unpaid_df.count()\r\n",
        "# the number of 5-star reviews\r\n",
        "total_5_star_unpaid = vine_unpaid_df[vine_unpaid_df[\"star_rating\"] == 5].count()\r\n",
        "# the percentage of 5-star reviews\r\n",
        "percentage_unpaid_5_star = round(total_5_star_unpaid / total_unpaid * 100)"
      ],
      "execution_count": null,
      "outputs": []
    },
    {
      "cell_type": "code",
      "metadata": {
        "colab": {
          "base_uri": "https://localhost:8080/"
        },
        "id": "n40L0dDhYYFO",
        "outputId": "92d77154-2f78-4017-df09-46048856f018"
      },
      "source": [
        "vine_summary = spark.createDataFrame([\r\n",
        "                                   (\"paid\", total_paid, total_5_star_paid, percentage_paid_5_star),\r\n",
        "                                   (\"unpaid\", total_unpaid, total_5_star_unpaid, percentage_unpaid_5_star)\r\n",
        "                              \r\n",
        "], [\"vine\", \"Total Reviews\", \"Total 5-star Reviews\", \"% 5-star Reviews\"])\r\n",
        "vine_summary.show()"
      ],
      "execution_count": null,
      "outputs": [
        {
          "output_type": "stream",
          "text": [
            "+------+-------------+--------------------+----------------+\n",
            "|  vine|Total Reviews|Total 5-star Reviews|% 5-star Reviews|\n",
            "+------+-------------+--------------------+----------------+\n",
            "|  paid|          261|                 106|              41|\n",
            "|unpaid|        24040|               10899|              45|\n",
            "+------+-------------+--------------------+----------------+\n",
            "\n"
          ],
          "name": "stdout"
        }
      ]
    }
  ]
}